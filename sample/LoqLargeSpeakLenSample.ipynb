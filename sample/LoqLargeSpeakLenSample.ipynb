{
 "cells": [
  {
   "cell_type": "markdown",
   "id": "bd3fa41b-a9cb-4954-8510-4bb778aa3be2",
   "metadata": {},
   "source": [
    "# Setup"
   ]
  },
  {
   "cell_type": "code",
   "execution_count": 1,
   "id": "63bebc21-c431-4629-af2e-4c1a46fbf77a",
   "metadata": {},
   "outputs": [],
   "source": [
    "import os\n",
    "import pickle\n",
    "import pandas as pd\n",
    "import numpy as np\n",
    "import glob\n",
    "from sklearn.cluster import MiniBatchKMeans, KMeans\n",
    "from sklearn.decomposition import PCA\n",
    "from sklearn.metrics import pairwise_distances\n",
    "\n",
    "import matplotlib.pyplot as plt\n",
    "from tqdm import tqdm\n",
    "\n",
    "import plotly.express as px\n",
    "import plotly.graph_objects as go\n",
    "import plotly.io as pio\n",
    "\n",
    "from utils import (\n",
    "    run_kmeans, \n",
    "    diverse_sample, \n",
    "    sample_kmeans_upto, \n",
    "    get_rand_csvs, \n",
    "    load_all_features\n",
    ")"
   ]
  },
  {
   "cell_type": "code",
   "execution_count": 4,
   "id": "c6a2fb14-df7e-499b-b0af-f5fbf804dbc8",
   "metadata": {},
   "outputs": [],
   "source": [
    "split = \"large\" # name of split\n",
    "k = 200 # how many clusters i used"
   ]
  },
  {
   "cell_type": "markdown",
   "id": "9f39fa0f-0c01-44a1-9a50-6609ebf0ddc3",
   "metadata": {},
   "source": [
    "# Get main csv"
   ]
  },
  {
   "cell_type": "code",
   "execution_count": 2,
   "id": "d68d9353-6354-415b-b4be-53a9a8cadbdf",
   "metadata": {},
   "outputs": [
    {
     "name": "stderr",
     "output_type": "stream",
     "text": [
      "/tmp/ipykernel_14173/2511693606.py:2: DtypeWarning: Columns (3,4) have mixed types. Specify dtype option on import or set low_memory=False.\n",
      "  main_df = pd.read_csv(file_path_main)\n"
     ]
    },
    {
     "data": {
      "text/plain": [
       "25204.90225332017"
      ]
     },
     "execution_count": 2,
     "metadata": {},
     "output_type": "execute_result"
    }
   ],
   "source": [
    "file_path_main = f\"/local_disk/apollon/rwhetten/loquacious_{split}_train.csv\"\n",
    "main_df = pd.read_csv(file_path_main)\n",
    "main_df.duration.sum() / 3600"
   ]
  },
  {
   "cell_type": "markdown",
   "id": "c6c6a43f-dd5f-49aa-8082-06aa7a82586c",
   "metadata": {},
   "source": [
    "# Check audio in random"
   ]
  },
  {
   "cell_type": "code",
   "execution_count": 3,
   "id": "3c09ef23-eef7-4cb6-9c7e-d00a44a2fe22",
   "metadata": {},
   "outputs": [
    {
     "data": {
      "text/plain": [
       "12601.15619105677"
      ]
     },
     "execution_count": 3,
     "metadata": {},
     "output_type": "execute_result"
    }
   ],
   "source": [
    "file_path_rand = f\"/local_disk/apollon/rwhetten/sss_data_selection/sample/csvs/loq_{split}/random_0.5.csv\"\n",
    "df = pd.read_csv(file_path_rand)\n",
    "df.duration.sum() / 3600"
   ]
  },
  {
   "cell_type": "markdown",
   "id": "03caa05c-25bb-4014-8275-60ffc990586f",
   "metadata": {},
   "source": [
    "# get speaker clusters"
   ]
  },
  {
   "cell_type": "code",
   "execution_count": 5,
   "id": "3b523b05-d4a4-4f60-9b0e-c619152d9e7a",
   "metadata": {},
   "outputs": [
    {
     "data": {
      "text/html": [
       "<div>\n",
       "<style scoped>\n",
       "    .dataframe tbody tr th:only-of-type {\n",
       "        vertical-align: middle;\n",
       "    }\n",
       "\n",
       "    .dataframe tbody tr th {\n",
       "        vertical-align: top;\n",
       "    }\n",
       "\n",
       "    .dataframe thead th {\n",
       "        text-align: right;\n",
       "    }\n",
       "</style>\n",
       "<table border=\"1\" class=\"dataframe\">\n",
       "  <thead>\n",
       "    <tr style=\"text-align: right;\">\n",
       "      <th></th>\n",
       "      <th>ID</th>\n",
       "      <th>cluster</th>\n",
       "    </tr>\n",
       "  </thead>\n",
       "  <tbody>\n",
       "    <tr>\n",
       "      <th>0</th>\n",
       "      <td>snafuinfinityfootball_vsWOBURN_092118-CL19_SLA...</td>\n",
       "      <td>126</td>\n",
       "    </tr>\n",
       "    <tr>\n",
       "      <th>1</th>\n",
       "      <td>Grad2009_SLASH_Grad2009_DOT_mp3_00006.flac</td>\n",
       "      <td>59</td>\n",
       "    </tr>\n",
       "    <tr>\n",
       "      <th>2</th>\n",
       "      <td>texas_terror_1935_SLASH_texas_terror_1935_DOT_...</td>\n",
       "      <td>126</td>\n",
       "    </tr>\n",
       "    <tr>\n",
       "      <th>3</th>\n",
       "      <td>unfinished_task_SLASH_unfinished_task_DOT_mp3_...</td>\n",
       "      <td>126</td>\n",
       "    </tr>\n",
       "    <tr>\n",
       "      <th>4</th>\n",
       "      <td>gov_DOT_uscourts_DOT_ca3_DOT_19-2975_SLASH_gov...</td>\n",
       "      <td>151</td>\n",
       "    </tr>\n",
       "  </tbody>\n",
       "</table>\n",
       "</div>"
      ],
      "text/plain": [
       "                                                  ID  cluster\n",
       "0  snafuinfinityfootball_vsWOBURN_092118-CL19_SLA...      126\n",
       "1         Grad2009_SLASH_Grad2009_DOT_mp3_00006.flac       59\n",
       "2  texas_terror_1935_SLASH_texas_terror_1935_DOT_...      126\n",
       "3  unfinished_task_SLASH_unfinished_task_DOT_mp3_...      126\n",
       "4  gov_DOT_uscourts_DOT_ca3_DOT_19-2975_SLASH_gov...      151"
      ]
     },
     "execution_count": 5,
     "metadata": {},
     "output_type": "execute_result"
    }
   ],
   "source": [
    "file_path_clust = f\"/local_disk/apollon/rwhetten/sss_data_selection/sample/csvs/loq_{split}/speaker_clusters_{split}_{k}.csv\"\n",
    "df = pd.read_csv(file_path_clust, index_col=0)\n",
    "df.head()"
   ]
  },
  {
   "cell_type": "code",
   "execution_count": 9,
   "id": "e25d3d0d-eca4-42ec-8733-202e2b10bba4",
   "metadata": {},
   "outputs": [
    {
     "data": {
      "text/html": [
       "<div>\n",
       "<style scoped>\n",
       "    .dataframe tbody tr th:only-of-type {\n",
       "        vertical-align: middle;\n",
       "    }\n",
       "\n",
       "    .dataframe tbody tr th {\n",
       "        vertical-align: top;\n",
       "    }\n",
       "\n",
       "    .dataframe thead th {\n",
       "        text-align: right;\n",
       "    }\n",
       "</style>\n",
       "<table border=\"1\" class=\"dataframe\">\n",
       "  <thead>\n",
       "    <tr style=\"text-align: right;\">\n",
       "      <th></th>\n",
       "      <th>ID</th>\n",
       "      <th>duration</th>\n",
       "      <th>wav</th>\n",
       "      <th>spk_id</th>\n",
       "      <th>sex</th>\n",
       "      <th>text</th>\n",
       "    </tr>\n",
       "  </thead>\n",
       "  <tbody>\n",
       "    <tr>\n",
       "      <th>0</th>\n",
       "      <td>20091124-0900-PLENARY-18-en_20091124-22:35:55_9</td>\n",
       "      <td>17.120000</td>\n",
       "      <td>20091124-0900-PLENARY-18-en_20091124-22:35:55_...</td>\n",
       "      <td>1309</td>\n",
       "      <td>male</td>\n",
       "      <td>AND WHAT ABOUT INTEROPERABILITY IN THE RAIL SE...</td>\n",
       "    </tr>\n",
       "    <tr>\n",
       "      <th>1</th>\n",
       "      <td>20171024-0900-PLENARY-19-en_20171024-19:35:50_20</td>\n",
       "      <td>13.579937</td>\n",
       "      <td>20171024-0900-PLENARY-19-en_20171024-19:35:50_...</td>\n",
       "      <td>NaN</td>\n",
       "      <td>male</td>\n",
       "      <td>THIS WILL NOT HAPPEN THIS IS A PROMISE I MAKE ...</td>\n",
       "    </tr>\n",
       "    <tr>\n",
       "      <th>2</th>\n",
       "      <td>20150520-0900-PLENARY-8-en_20150520-13:27:12_5</td>\n",
       "      <td>9.797000</td>\n",
       "      <td>20150520-0900-PLENARY-8-en_20150520-13:27:12_5...</td>\n",
       "      <td>124985</td>\n",
       "      <td>male</td>\n",
       "      <td>IT IS GOOD TO SEE SOMETHING BEING DONE ABOUT I...</td>\n",
       "    </tr>\n",
       "    <tr>\n",
       "      <th>3</th>\n",
       "      <td>20170613-0900-PLENARY-9-en_20170613-13:02:00_0</td>\n",
       "      <td>16.377250</td>\n",
       "      <td>20170613-0900-PLENARY-9-en_20170613-13:02:00_0...</td>\n",
       "      <td>28115</td>\n",
       "      <td>female</td>\n",
       "      <td>MR PRESIDENT I WANT TO PUT ON THE RECORD MY SU...</td>\n",
       "    </tr>\n",
       "    <tr>\n",
       "      <th>4</th>\n",
       "      <td>20170911-0900-PLENARY-16-en_20170911-18:23:37_6</td>\n",
       "      <td>6.759938</td>\n",
       "      <td>20170911-0900-PLENARY-16-en_20170911-18:23:37_...</td>\n",
       "      <td>96897</td>\n",
       "      <td>male</td>\n",
       "      <td>POLITICAL CORRECTNESS IS THE CORNERSTONE OF TH...</td>\n",
       "    </tr>\n",
       "  </tbody>\n",
       "</table>\n",
       "</div>"
      ],
      "text/plain": [
       "                                                 ID   duration  \\\n",
       "0   20091124-0900-PLENARY-18-en_20091124-22:35:55_9  17.120000   \n",
       "1  20171024-0900-PLENARY-19-en_20171024-19:35:50_20  13.579937   \n",
       "2    20150520-0900-PLENARY-8-en_20150520-13:27:12_5   9.797000   \n",
       "3    20170613-0900-PLENARY-9-en_20170613-13:02:00_0  16.377250   \n",
       "4   20170911-0900-PLENARY-16-en_20170911-18:23:37_6   6.759938   \n",
       "\n",
       "                                                 wav  spk_id     sex  \\\n",
       "0  20091124-0900-PLENARY-18-en_20091124-22:35:55_...    1309    male   \n",
       "1  20171024-0900-PLENARY-19-en_20171024-19:35:50_...     NaN    male   \n",
       "2  20150520-0900-PLENARY-8-en_20150520-13:27:12_5...  124985    male   \n",
       "3  20170613-0900-PLENARY-9-en_20170613-13:02:00_0...   28115  female   \n",
       "4  20170911-0900-PLENARY-16-en_20170911-18:23:37_...   96897    male   \n",
       "\n",
       "                                                text  \n",
       "0  AND WHAT ABOUT INTEROPERABILITY IN THE RAIL SE...  \n",
       "1  THIS WILL NOT HAPPEN THIS IS A PROMISE I MAKE ...  \n",
       "2  IT IS GOOD TO SEE SOMETHING BEING DONE ABOUT I...  \n",
       "3  MR PRESIDENT I WANT TO PUT ON THE RECORD MY SU...  \n",
       "4  POLITICAL CORRECTNESS IS THE CORNERSTONE OF TH...  "
      ]
     },
     "execution_count": 9,
     "metadata": {},
     "output_type": "execute_result"
    }
   ],
   "source": [
    "main_df.head()"
   ]
  },
  {
   "cell_type": "code",
   "execution_count": 10,
   "id": "246fed0d-238f-4480-b00b-35828702b19e",
   "metadata": {},
   "outputs": [
    {
     "data": {
      "text/html": [
       "<div>\n",
       "<style scoped>\n",
       "    .dataframe tbody tr th:only-of-type {\n",
       "        vertical-align: middle;\n",
       "    }\n",
       "\n",
       "    .dataframe tbody tr th {\n",
       "        vertical-align: top;\n",
       "    }\n",
       "\n",
       "    .dataframe thead th {\n",
       "        text-align: right;\n",
       "    }\n",
       "</style>\n",
       "<table border=\"1\" class=\"dataframe\">\n",
       "  <thead>\n",
       "    <tr style=\"text-align: right;\">\n",
       "      <th></th>\n",
       "      <th>ID</th>\n",
       "      <th>cluster</th>\n",
       "      <th>duration</th>\n",
       "    </tr>\n",
       "  </thead>\n",
       "  <tbody>\n",
       "    <tr>\n",
       "      <th>0</th>\n",
       "      <td>snafuinfinityfootball_vsWOBURN_092118-CL19_SLA...</td>\n",
       "      <td>126</td>\n",
       "      <td>1.17</td>\n",
       "    </tr>\n",
       "    <tr>\n",
       "      <th>1</th>\n",
       "      <td>Grad2009_SLASH_Grad2009_DOT_mp3_00006.flac</td>\n",
       "      <td>59</td>\n",
       "      <td>1.02</td>\n",
       "    </tr>\n",
       "    <tr>\n",
       "      <th>2</th>\n",
       "      <td>texas_terror_1935_SLASH_texas_terror_1935_DOT_...</td>\n",
       "      <td>126</td>\n",
       "      <td>1.20</td>\n",
       "    </tr>\n",
       "    <tr>\n",
       "      <th>3</th>\n",
       "      <td>unfinished_task_SLASH_unfinished_task_DOT_mp3_...</td>\n",
       "      <td>126</td>\n",
       "      <td>1.17</td>\n",
       "    </tr>\n",
       "    <tr>\n",
       "      <th>4</th>\n",
       "      <td>gov_DOT_uscourts_DOT_ca3_DOT_19-2975_SLASH_gov...</td>\n",
       "      <td>151</td>\n",
       "      <td>1.71</td>\n",
       "    </tr>\n",
       "  </tbody>\n",
       "</table>\n",
       "</div>"
      ],
      "text/plain": [
       "                                                  ID  cluster  duration\n",
       "0  snafuinfinityfootball_vsWOBURN_092118-CL19_SLA...      126      1.17\n",
       "1         Grad2009_SLASH_Grad2009_DOT_mp3_00006.flac       59      1.02\n",
       "2  texas_terror_1935_SLASH_texas_terror_1935_DOT_...      126      1.20\n",
       "3  unfinished_task_SLASH_unfinished_task_DOT_mp3_...      126      1.17\n",
       "4  gov_DOT_uscourts_DOT_ca3_DOT_19-2975_SLASH_gov...      151      1.71"
      ]
     },
     "execution_count": 10,
     "metadata": {},
     "output_type": "execute_result"
    }
   ],
   "source": [
    "df_merged = df.merge(main_df[[\"ID\", \"duration\"]], on=\"ID\", how=\"left\")\n",
    "df_merged.head()"
   ]
  },
  {
   "cell_type": "code",
   "execution_count": 11,
   "id": "94a76e88-229a-4869-97a5-37a836134393",
   "metadata": {},
   "outputs": [
    {
     "data": {
      "text/plain": [
       "150.3724366316492"
      ]
     },
     "execution_count": 11,
     "metadata": {},
     "output_type": "execute_result"
    }
   ],
   "source": [
    "df_merged[df_merged.cluster == 89].duration.sum() / 3600"
   ]
  },
  {
   "cell_type": "code",
   "execution_count": 12,
   "id": "846f047c-d754-4138-a88c-981cb03766c8",
   "metadata": {},
   "outputs": [],
   "source": [
    "def diverse_sample_longest(cluster_df, frac, random_state=0):\n",
    "    N = int(len(cluster_df) * frac)\n",
    "    k = len(cluster_df['cluster'].unique())\n",
    "    labels = cluster_df['cluster']\n",
    "    clusters = [np.where(labels == i)[0] for i in range(k)]\n",
    "    cluster_sizes = [len(c) for c in clusters]\n",
    "\n",
    "    # Step 1: Allocate at least one per cluster (if cluster is non-empty)\n",
    "    allocated = [min(1, size) for size in cluster_sizes]\n",
    "    remaining = N - sum(allocated)\n",
    "\n",
    "    # Step 2: Distribute remaining not propotionally (capped by cluster size)\n",
    "    total_remaining_capacity = sum(max(size - alloc, 0) for alloc, size in zip(allocated, cluster_sizes))\n",
    "    i = 1\n",
    "    done = False\n",
    "    while not done:\n",
    "        for i in range(k):\n",
    "            cap = max(cluster_sizes[i] - allocated[i], 0)\n",
    "            if cap > 0:\n",
    "                allocated[i] += 1\n",
    "                remaining -= 1\n",
    "            if remaining <= 0:\n",
    "                done = True\n",
    "                break\n",
    "\n",
    "    sampled_indices = []\n",
    "    for i, count in enumerate(allocated):\n",
    "        if count > 0:\n",
    "            X_cluster = cluster_df[cluster_df.cluster == i]\n",
    "            X_cluster_sorted = X_cluster.sort_values(\"duration\", ascending=False)\n",
    "            sampled_indices.extend(list(X_cluster_sorted[:count].ID))\n",
    "            \n",
    "    return sampled_indices"
   ]
  },
  {
   "cell_type": "code",
   "execution_count": 22,
   "id": "5a1802c7-e66b-4ca6-87ca-b6c5f8c4c76e",
   "metadata": {},
   "outputs": [],
   "source": [
    "ids = diverse_sample_longest(df_merged, 0.31)"
   ]
  },
  {
   "cell_type": "code",
   "execution_count": 23,
   "id": "9ca2d9f1-0d51-4f3d-a781-11dd4c3bebe1",
   "metadata": {},
   "outputs": [],
   "source": [
    "filtered_main_df = main_df[main_df['ID'].isin(ids)]"
   ]
  },
  {
   "cell_type": "code",
   "execution_count": 24,
   "id": "3c90b525-6883-444b-9818-946123672abd",
   "metadata": {},
   "outputs": [
    {
     "name": "stdout",
     "output_type": "stream",
     "text": [
      "2941240 files and 12543.51 hours\n"
     ]
    }
   ],
   "source": [
    "print(f\"{len(filtered_main_df)} files and {round((filtered_main_df.duration.sum()/ 3600), 2)} hours\")\n"
   ]
  },
  {
   "cell_type": "markdown",
   "id": "a81ba534-55f5-4103-9edf-3e90ff2a0640",
   "metadata": {},
   "source": [
    "# Save csv"
   ]
  },
  {
   "cell_type": "code",
   "execution_count": 25,
   "id": "8557d38f-44b5-4bf8-bfa4-189cca0dd4f8",
   "metadata": {},
   "outputs": [
    {
     "data": {
      "text/plain": [
       "<Axes: >"
      ]
     },
     "execution_count": 25,
     "metadata": {},
     "output_type": "execute_result"
    },
    {
     "data": {
      "image/png": "[encoded data removed]",
      "text/plain": [
       "<Figure size 640x480 with 1 Axes>"
      ]
     },
     "metadata": {},
     "output_type": "display_data"
    }
   ],
   "source": [
    "filtered_main_df.duration.hist(bins=30)"
   ]
  },
  {
   "cell_type": "code",
   "execution_count": 28,
   "id": "ebc8274f-9019-4f98-a754-d1a99f7b24f0",
   "metadata": {},
   "outputs": [],
   "source": [
    "filtered_main_df.to_csv(f\"/local_disk/apollon/rwhetten/sss_data_selection/sample/csvs/loq_{split}/speaker_len_0.5.csv\")"
   ]
  },
  {
   "cell_type": "code",
   "execution_count": 29,
   "id": "be0f1aee-6539-4b4b-849d-fed039d7849e",
   "metadata": {},
   "outputs": [
    {
     "name": "stderr",
     "output_type": "stream",
     "text": [
      "/tmp/ipykernel_14173/2022795740.py:1: DtypeWarning: Columns (3) have mixed types. Specify dtype option on import or set low_memory=False.\n",
      "  df = pd.read_csv(f\"/local_disk/apollon/rwhetten/sss_data_selection/sample/csvs/loq_{split}/length_0.5.csv\")\n"
     ]
    }
   ],
   "source": [
    "df = pd.read_csv(f\"/local_disk/apollon/rwhetten/sss_data_selection/sample/csvs/loq_{split}/length_0.5.csv\")"
   ]
  },
  {
   "cell_type": "code",
   "execution_count": 30,
   "id": "c65b1138-a78e-49d4-83c7-ae28897df171",
   "metadata": {},
   "outputs": [
    {
     "data": {
      "text/plain": [
       "<Axes: >"
      ]
     },
     "execution_count": 30,
     "metadata": {},
     "output_type": "execute_result"
    },
    {
     "data": {
      "image/png": "[encoded data removed]",
      "text/plain": [
       "<Figure size 640x480 with 1 Axes>"
      ]
     },
     "metadata": {},
     "output_type": "display_data"
    }
   ],
   "source": [
    "df.duration.hist(bins=30)"
   ]
  },
  {
   "cell_type": "code",
   "execution_count": 31,
   "id": "78701485-10fb-41e0-99f2-1dcc1692d2c1",
   "metadata": {},
   "outputs": [],
   "source": [
    "df = pd.read_csv(f\"/local_disk/apollon/rwhetten/sss_data_selection/sample/csvs/loq_{split}/random_0.5.csv\")"
   ]
  },
  {
   "cell_type": "code",
   "execution_count": 32,
   "id": "3ca9319b-cadf-460b-9ab4-3ae7527891f3",
   "metadata": {},
   "outputs": [
    {
     "data": {
      "text/plain": [
       "<Axes: >"
      ]
     },
     "execution_count": 32,
     "metadata": {},
     "output_type": "execute_result"
    },
    {
     "data": {
      "image/png": "[encoded data removed]",
      "text/plain": [
       "<Figure size 640x480 with 1 Axes>"
      ]
     },
     "metadata": {},
     "output_type": "display_data"
    }
   ],
   "source": [
    "df.duration.hist(bins=30)"
   ]
  },
  {
   "cell_type": "code",
   "execution_count": null,
   "id": "88002b24-7ae1-49fc-a3d8-3be1591538fb",
   "metadata": {},
   "outputs": [],
   "source": []
  }
 ],
 "metadata": {
  "kernelspec": {
   "display_name": "Python 3 (ipykernel)",
   "language": "python",
   "name": "python3"
  },
  "language_info": {
   "codemirror_mode": {
    "name": "ipython",
    "version": 3
   },
   "file_extension": ".py",
   "mimetype": "text/x-python",
   "name": "python",
   "nbconvert_exporter": "python",
   "pygments_lexer": "ipython3",
   "version": "3.11.7"
  }
 },
 "nbformat": 4,
 "nbformat_minor": 5
}
