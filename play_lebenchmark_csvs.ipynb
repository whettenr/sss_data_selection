{
 "cells": [
  {
   "cell_type": "markdown",
   "id": "ffb5ce77-9bc5-46af-ae0d-e257d1e72f8b",
   "metadata": {},
   "source": [
    "# Imports"
   ]
  },
  {
   "cell_type": "code",
   "execution_count": 2,
   "id": "2fd11524-3dbd-4ad5-9968-aca7e99676a3",
   "metadata": {},
   "outputs": [],
   "source": [
    "import time\n",
    "import os\n",
    "import pickle\n",
    "import torch\n",
    "import speechbrain as sb\n",
    "from speechbrain.dataio.dataio import read_audio\n",
    "from loquacious_set_prepare import load_datasets\n",
    "\n",
    "# from tqdm import tqdm\n",
    "from tqdm.notebook import tqdm\n",
    "from hyperpyyaml import load_hyperpyyaml\n",
    "from speechbrain.dataio.sampler import DynamicBatchSampler\n",
    "\n",
    "import torchaudio\n",
    "import torchaudio.transforms as T\n",
    "\n",
    "import pandas as pd\n",
    "import numpy as np\n",
    "from sklearn.cluster import MiniBatchKMeans, KMeans\n",
    "from sklearn.decomposition import PCA\n",
    "import matplotlib.pyplot as plt\n",
    "\n",
    "# speaker embeddings\n",
    "from pyannote.audio import Inference\n",
    "from pyannote.audio import Model\n",
    "\n",
    "# !pip install -U sentence-transformers\n",
    "from sentence_transformers import SentenceTransformer\n"
   ]
  },
  {
   "cell_type": "markdown",
   "id": "e3bb7e04-dc27-42e2-800a-e2ebd8216c65",
   "metadata": {},
   "source": [
    "# Get CSVs"
   ]
  },
  {
   "cell_type": "code",
   "execution_count": 13,
   "id": "7cfe2aa0-2cf6-4820-bb70-89e628a4628b",
   "metadata": {},
   "outputs": [],
   "source": [
    "pth_sm = \"/users/rwhetten/LeBenchmark/sm/train.csv\"\n",
    "lb_sm = pd.read_csv(pth_sm)"
   ]
  },
  {
   "cell_type": "code",
   "execution_count": 14,
   "id": "1c50ba8b-bbe2-454a-9c40-dc33c1308e54",
   "metadata": {},
   "outputs": [
    {
     "data": {
      "text/plain": [
       "(20.0, 10.0)"
      ]
     },
     "execution_count": 14,
     "metadata": {},
     "output_type": "execute_result"
    }
   ],
   "source": [
    "lb_sm.duration.max(), lb_sm.duration.min()"
   ]
  },
  {
   "cell_type": "markdown",
   "id": "e163c028-8b99-4921-85a1-83e5cc41bbf1",
   "metadata": {},
   "source": [
    "# Remove Douplicates IDs from Large"
   ]
  },
  {
   "cell_type": "code",
   "execution_count": 15,
   "id": "a7c5e2a4-4082-4434-9421-54d0280e9e13",
   "metadata": {},
   "outputs": [
    {
     "data": {
      "text/html": [
       "<div>\n",
       "<style scoped>\n",
       "    .dataframe tbody tr th:only-of-type {\n",
       "        vertical-align: middle;\n",
       "    }\n",
       "\n",
       "    .dataframe tbody tr th {\n",
       "        vertical-align: top;\n",
       "    }\n",
       "\n",
       "    .dataframe thead th {\n",
       "        text-align: right;\n",
       "    }\n",
       "</style>\n",
       "<table border=\"1\" class=\"dataframe\">\n",
       "  <thead>\n",
       "    <tr style=\"text-align: right;\">\n",
       "      <th></th>\n",
       "      <th>ID</th>\n",
       "      <th>wav</th>\n",
       "      <th>start</th>\n",
       "      <th>stop</th>\n",
       "      <th>duration</th>\n",
       "    </tr>\n",
       "  </thead>\n",
       "  <tbody>\n",
       "    <tr>\n",
       "      <th>0</th>\n",
       "      <td>2567/3319_2567_000001.wav0.0</td>\n",
       "      <td>/corpus/LeBenchmark/mls_french_flowbert/gpfswo...</td>\n",
       "      <td>0</td>\n",
       "      <td>242080</td>\n",
       "      <td>15.13</td>\n",
       "    </tr>\n",
       "    <tr>\n",
       "      <th>1</th>\n",
       "      <td>2567/3319_2567_000000.wav0.0</td>\n",
       "      <td>/corpus/LeBenchmark/mls_french_flowbert/gpfswo...</td>\n",
       "      <td>0</td>\n",
       "      <td>264000</td>\n",
       "      <td>16.50</td>\n",
       "    </tr>\n",
       "    <tr>\n",
       "      <th>2</th>\n",
       "      <td>1565/2284_1565_000000.wav0.0</td>\n",
       "      <td>/corpus/LeBenchmark/mls_french_flowbert/gpfswo...</td>\n",
       "      <td>0</td>\n",
       "      <td>190080</td>\n",
       "      <td>11.88</td>\n",
       "    </tr>\n",
       "    <tr>\n",
       "      <th>3</th>\n",
       "      <td>1565/2284_1565_000008.wav0.0</td>\n",
       "      <td>/corpus/LeBenchmark/mls_french_flowbert/gpfswo...</td>\n",
       "      <td>0</td>\n",
       "      <td>298880</td>\n",
       "      <td>18.68</td>\n",
       "    </tr>\n",
       "    <tr>\n",
       "      <th>4</th>\n",
       "      <td>1565/2284_1565_000013.wav0.0</td>\n",
       "      <td>/corpus/LeBenchmark/mls_french_flowbert/gpfswo...</td>\n",
       "      <td>0</td>\n",
       "      <td>204960</td>\n",
       "      <td>12.81</td>\n",
       "    </tr>\n",
       "  </tbody>\n",
       "</table>\n",
       "</div>"
      ],
      "text/plain": [
       "                             ID  \\\n",
       "0  2567/3319_2567_000001.wav0.0   \n",
       "1  2567/3319_2567_000000.wav0.0   \n",
       "2  1565/2284_1565_000000.wav0.0   \n",
       "3  1565/2284_1565_000008.wav0.0   \n",
       "4  1565/2284_1565_000013.wav0.0   \n",
       "\n",
       "                                                 wav  start    stop  duration  \n",
       "0  /corpus/LeBenchmark/mls_french_flowbert/gpfswo...      0  242080     15.13  \n",
       "1  /corpus/LeBenchmark/mls_french_flowbert/gpfswo...      0  264000     16.50  \n",
       "2  /corpus/LeBenchmark/mls_french_flowbert/gpfswo...      0  190080     11.88  \n",
       "3  /corpus/LeBenchmark/mls_french_flowbert/gpfswo...      0  298880     18.68  \n",
       "4  /corpus/LeBenchmark/mls_french_flowbert/gpfswo...      0  204960     12.81  "
      ]
     },
     "execution_count": 15,
     "metadata": {},
     "output_type": "execute_result"
    }
   ],
   "source": [
    "pth = \"/users/rwhetten/LeBenchmark/xlg_20/train.csv\"\n",
    "lb = pd.read_csv(pth)\n",
    "lb.head()"
   ]
  },
  {
   "cell_type": "code",
   "execution_count": 16,
   "id": "9c78611e-2a1a-497a-a383-3e18d29e607d",
   "metadata": {},
   "outputs": [
    {
     "data": {
      "text/plain": [
       "14563.676404843749"
      ]
     },
     "execution_count": 16,
     "metadata": {},
     "output_type": "execute_result"
    }
   ],
   "source": [
    "lb.duration.sum() / 3600"
   ]
  },
  {
   "cell_type": "code",
   "execution_count": 17,
   "id": "56862aed-2834-4daa-9dfb-e6250bcb121b",
   "metadata": {},
   "outputs": [
    {
     "data": {
      "text/plain": [
       "(20.0, 0.0009375)"
      ]
     },
     "execution_count": 17,
     "metadata": {},
     "output_type": "execute_result"
    }
   ],
   "source": [
    "lb.duration.max(), lb.duration.min()"
   ]
  },
  {
   "cell_type": "code",
   "execution_count": 19,
   "id": "4aa8cb57-149e-42bf-8b38-7e5e2bf0057b",
   "metadata": {},
   "outputs": [
    {
     "data": {
      "text/html": [
       "<div>\n",
       "<style scoped>\n",
       "    .dataframe tbody tr th:only-of-type {\n",
       "        vertical-align: middle;\n",
       "    }\n",
       "\n",
       "    .dataframe tbody tr th {\n",
       "        vertical-align: top;\n",
       "    }\n",
       "\n",
       "    .dataframe thead th {\n",
       "        text-align: right;\n",
       "    }\n",
       "</style>\n",
       "<table border=\"1\" class=\"dataframe\">\n",
       "  <thead>\n",
       "    <tr style=\"text-align: right;\">\n",
       "      <th></th>\n",
       "      <th>ID</th>\n",
       "      <th>count</th>\n",
       "    </tr>\n",
       "  </thead>\n",
       "  <tbody>\n",
       "    <tr>\n",
       "      <th>355</th>\n",
       "      <td>008/afc-gabon_16.06.11_008_read_0080.wav0.0</td>\n",
       "      <td>2</td>\n",
       "    </tr>\n",
       "    <tr>\n",
       "      <th>363</th>\n",
       "      <td>008/afc-gabon_16.06.11_008_read_0088.wav0.0</td>\n",
       "      <td>2</td>\n",
       "    </tr>\n",
       "    <tr>\n",
       "      <th>364</th>\n",
       "      <td>008/afc-gabon_16.06.11_008_read_0089.wav0.0</td>\n",
       "      <td>2</td>\n",
       "    </tr>\n",
       "    <tr>\n",
       "      <th>725</th>\n",
       "      <td>015/afc-gabon_16.06.11_015_read_0080.wav0.0</td>\n",
       "      <td>2</td>\n",
       "    </tr>\n",
       "    <tr>\n",
       "      <th>733</th>\n",
       "      <td>015/afc-gabon_16.06.11_015_read_0088.wav0.0</td>\n",
       "      <td>2</td>\n",
       "    </tr>\n",
       "    <tr>\n",
       "      <th>...</th>\n",
       "      <td>...</td>\n",
       "      <td>...</td>\n",
       "    </tr>\n",
       "    <tr>\n",
       "      <th>3850458</th>\n",
       "      <td>split/mirbeau_7.wav20.0</td>\n",
       "      <td>2</td>\n",
       "    </tr>\n",
       "    <tr>\n",
       "      <th>3850479</th>\n",
       "      <td>split/mirbeau_8.wav0.0</td>\n",
       "      <td>2</td>\n",
       "    </tr>\n",
       "    <tr>\n",
       "      <th>3850480</th>\n",
       "      <td>split/mirbeau_8.wav20.0</td>\n",
       "      <td>2</td>\n",
       "    </tr>\n",
       "    <tr>\n",
       "      <th>3850501</th>\n",
       "      <td>split/mirbeau_9.wav0.0</td>\n",
       "      <td>2</td>\n",
       "    </tr>\n",
       "    <tr>\n",
       "      <th>3850502</th>\n",
       "      <td>split/mirbeau_9.wav20.0</td>\n",
       "      <td>2</td>\n",
       "    </tr>\n",
       "  </tbody>\n",
       "</table>\n",
       "<p>10448 rows × 2 columns</p>\n",
       "</div>"
      ],
      "text/plain": [
       "                                                  ID  count\n",
       "355      008/afc-gabon_16.06.11_008_read_0080.wav0.0      2\n",
       "363      008/afc-gabon_16.06.11_008_read_0088.wav0.0      2\n",
       "364      008/afc-gabon_16.06.11_008_read_0089.wav0.0      2\n",
       "725      015/afc-gabon_16.06.11_015_read_0080.wav0.0      2\n",
       "733      015/afc-gabon_16.06.11_015_read_0088.wav0.0      2\n",
       "...                                              ...    ...\n",
       "3850458                      split/mirbeau_7.wav20.0      2\n",
       "3850479                       split/mirbeau_8.wav0.0      2\n",
       "3850480                      split/mirbeau_8.wav20.0      2\n",
       "3850501                       split/mirbeau_9.wav0.0      2\n",
       "3850502                      split/mirbeau_9.wav20.0      2\n",
       "\n",
       "[10448 rows x 2 columns]"
      ]
     },
     "execution_count": 19,
     "metadata": {},
     "output_type": "execute_result"
    }
   ],
   "source": [
    "ct=lb.groupby(['ID']).size().reset_index(name='count')\n",
    "ct[ct['count'] > 1]"
   ]
  },
  {
   "cell_type": "code",
   "execution_count": 20,
   "id": "8a1cc9b9-b350-4cd9-b5a1-1b6dc6482f35",
   "metadata": {},
   "outputs": [],
   "source": [
    "lb['ID_count'] = lb.groupby('ID').cumcount()"
   ]
  },
  {
   "cell_type": "code",
   "execution_count": 21,
   "id": "00d21c73-a285-4581-8d11-d6610eebe873",
   "metadata": {},
   "outputs": [],
   "source": [
    "lb['Unique_ID'] = lb.apply(\n",
    "    lambda row: str(row['ID']) if row['ID_count'] == 0 else f\"{row['ID']}_{row['ID_count']+1}\",\n",
    "    axis=1\n",
    ")\n",
    "\n",
    "# Drop the helper column if you don't need it\n",
    "lb = lb.drop(columns='ID_count')"
   ]
  },
  {
   "cell_type": "code",
   "execution_count": 25,
   "id": "196098da-bab3-4510-9325-3de34168670e",
   "metadata": {},
   "outputs": [],
   "source": [
    "lb.ID = lb.Unique_ID\n",
    "lb = lb.drop(columns='Unique_ID')"
   ]
  },
  {
   "cell_type": "code",
   "execution_count": 26,
   "id": "129a241c-d728-441c-9261-fb748fee7e09",
   "metadata": {},
   "outputs": [
    {
     "data": {
      "text/html": [
       "<div>\n",
       "<style scoped>\n",
       "    .dataframe tbody tr th:only-of-type {\n",
       "        vertical-align: middle;\n",
       "    }\n",
       "\n",
       "    .dataframe tbody tr th {\n",
       "        vertical-align: top;\n",
       "    }\n",
       "\n",
       "    .dataframe thead th {\n",
       "        text-align: right;\n",
       "    }\n",
       "</style>\n",
       "<table border=\"1\" class=\"dataframe\">\n",
       "  <thead>\n",
       "    <tr style=\"text-align: right;\">\n",
       "      <th></th>\n",
       "      <th>ID</th>\n",
       "      <th>count</th>\n",
       "    </tr>\n",
       "  </thead>\n",
       "  <tbody>\n",
       "  </tbody>\n",
       "</table>\n",
       "</div>"
      ],
      "text/plain": [
       "Empty DataFrame\n",
       "Columns: [ID, count]\n",
       "Index: []"
      ]
     },
     "execution_count": 26,
     "metadata": {},
     "output_type": "execute_result"
    }
   ],
   "source": [
    "ct=lb.groupby(['ID']).size().reset_index(name='count')\n",
    "ct[ct['count'] > 1]"
   ]
  },
  {
   "cell_type": "code",
   "execution_count": 27,
   "id": "86fafd9c-f9fd-44ad-9e39-f001b3d51846",
   "metadata": {},
   "outputs": [
    {
     "data": {
      "text/plain": [
       "14563.676404843749"
      ]
     },
     "execution_count": 27,
     "metadata": {},
     "output_type": "execute_result"
    }
   ],
   "source": [
    "lb.duration.sum() / 3600"
   ]
  },
  {
   "cell_type": "code",
   "execution_count": 29,
   "id": "a533fbff-3175-4e67-b3d9-adca33748bb5",
   "metadata": {},
   "outputs": [],
   "source": [
    "lb_filtered = lb[lb.duration > 2]"
   ]
  },
  {
   "cell_type": "code",
   "execution_count": 30,
   "id": "df119162-b00d-4585-b5b4-e92fe0d0da09",
   "metadata": {},
   "outputs": [
    {
     "data": {
      "text/plain": [
       "14503.947984357652"
      ]
     },
     "execution_count": 30,
     "metadata": {},
     "output_type": "execute_result"
    }
   ],
   "source": [
    "lb_filtered.duration.sum() / 3600"
   ]
  },
  {
   "cell_type": "code",
   "execution_count": 31,
   "id": "96dc2ffb-d865-434b-872f-c15ee199bd98",
   "metadata": {},
   "outputs": [],
   "source": [
    "lb_filtered.to_csv(pth)"
   ]
  },
  {
   "cell_type": "markdown",
   "id": "ab145cfa-b0a9-4ea6-98ce-7797688f6d50",
   "metadata": {},
   "source": [
    "## Reread in to double check"
   ]
  },
  {
   "cell_type": "code",
   "execution_count": 32,
   "id": "bc0e6ce5-f5a4-41d6-9043-2e70085c127c",
   "metadata": {},
   "outputs": [
    {
     "data": {
      "text/html": [
       "<div>\n",
       "<style scoped>\n",
       "    .dataframe tbody tr th:only-of-type {\n",
       "        vertical-align: middle;\n",
       "    }\n",
       "\n",
       "    .dataframe tbody tr th {\n",
       "        vertical-align: top;\n",
       "    }\n",
       "\n",
       "    .dataframe thead th {\n",
       "        text-align: right;\n",
       "    }\n",
       "</style>\n",
       "<table border=\"1\" class=\"dataframe\">\n",
       "  <thead>\n",
       "    <tr style=\"text-align: right;\">\n",
       "      <th></th>\n",
       "      <th>Unnamed: 0</th>\n",
       "      <th>ID</th>\n",
       "      <th>wav</th>\n",
       "      <th>start</th>\n",
       "      <th>stop</th>\n",
       "      <th>duration</th>\n",
       "    </tr>\n",
       "  </thead>\n",
       "  <tbody>\n",
       "    <tr>\n",
       "      <th>0</th>\n",
       "      <td>0</td>\n",
       "      <td>2567/3319_2567_000001.wav0.0</td>\n",
       "      <td>/corpus/LeBenchmark/mls_french_flowbert/gpfswo...</td>\n",
       "      <td>0</td>\n",
       "      <td>242080</td>\n",
       "      <td>15.13</td>\n",
       "    </tr>\n",
       "    <tr>\n",
       "      <th>1</th>\n",
       "      <td>1</td>\n",
       "      <td>2567/3319_2567_000000.wav0.0</td>\n",
       "      <td>/corpus/LeBenchmark/mls_french_flowbert/gpfswo...</td>\n",
       "      <td>0</td>\n",
       "      <td>264000</td>\n",
       "      <td>16.50</td>\n",
       "    </tr>\n",
       "    <tr>\n",
       "      <th>2</th>\n",
       "      <td>2</td>\n",
       "      <td>1565/2284_1565_000000.wav0.0</td>\n",
       "      <td>/corpus/LeBenchmark/mls_french_flowbert/gpfswo...</td>\n",
       "      <td>0</td>\n",
       "      <td>190080</td>\n",
       "      <td>11.88</td>\n",
       "    </tr>\n",
       "    <tr>\n",
       "      <th>3</th>\n",
       "      <td>3</td>\n",
       "      <td>1565/2284_1565_000008.wav0.0</td>\n",
       "      <td>/corpus/LeBenchmark/mls_french_flowbert/gpfswo...</td>\n",
       "      <td>0</td>\n",
       "      <td>298880</td>\n",
       "      <td>18.68</td>\n",
       "    </tr>\n",
       "    <tr>\n",
       "      <th>4</th>\n",
       "      <td>4</td>\n",
       "      <td>1565/2284_1565_000013.wav0.0</td>\n",
       "      <td>/corpus/LeBenchmark/mls_french_flowbert/gpfswo...</td>\n",
       "      <td>0</td>\n",
       "      <td>204960</td>\n",
       "      <td>12.81</td>\n",
       "    </tr>\n",
       "  </tbody>\n",
       "</table>\n",
       "</div>"
      ],
      "text/plain": [
       "   Unnamed: 0                            ID  \\\n",
       "0           0  2567/3319_2567_000001.wav0.0   \n",
       "1           1  2567/3319_2567_000000.wav0.0   \n",
       "2           2  1565/2284_1565_000000.wav0.0   \n",
       "3           3  1565/2284_1565_000008.wav0.0   \n",
       "4           4  1565/2284_1565_000013.wav0.0   \n",
       "\n",
       "                                                 wav  start    stop  duration  \n",
       "0  /corpus/LeBenchmark/mls_french_flowbert/gpfswo...      0  242080     15.13  \n",
       "1  /corpus/LeBenchmark/mls_french_flowbert/gpfswo...      0  264000     16.50  \n",
       "2  /corpus/LeBenchmark/mls_french_flowbert/gpfswo...      0  190080     11.88  \n",
       "3  /corpus/LeBenchmark/mls_french_flowbert/gpfswo...      0  298880     18.68  \n",
       "4  /corpus/LeBenchmark/mls_french_flowbert/gpfswo...      0  204960     12.81  "
      ]
     },
     "execution_count": 32,
     "metadata": {},
     "output_type": "execute_result"
    }
   ],
   "source": [
    "pth = \"/users/rwhetten/LeBenchmark/xlg_20/train.csv\"\n",
    "lb = pd.read_csv(pth)\n",
    "lb.head()"
   ]
  },
  {
   "cell_type": "code",
   "execution_count": 34,
   "id": "c90d082a-5df3-41a1-b76a-52e21f86b180",
   "metadata": {},
   "outputs": [
    {
     "data": {
      "text/plain": [
       "14503.947984357652"
      ]
     },
     "execution_count": 34,
     "metadata": {},
     "output_type": "execute_result"
    }
   ],
   "source": [
    "lb.duration.sum() / 3600"
   ]
  },
  {
   "cell_type": "code",
   "execution_count": null,
   "id": "097b851b-4327-4b6c-bc7a-a4027514eb10",
   "metadata": {},
   "outputs": [],
   "source": []
  }
 ],
 "metadata": {
  "kernelspec": {
   "display_name": "Python 3 (ipykernel)",
   "language": "python",
   "name": "python3"
  },
  "language_info": {
   "codemirror_mode": {
    "name": "ipython",
    "version": 3
   },
   "file_extension": ".py",
   "mimetype": "text/x-python",
   "name": "python",
   "nbconvert_exporter": "python",
   "pygments_lexer": "ipython3",
   "version": "3.11.7"
  }
 },
 "nbformat": 4,
 "nbformat_minor": 5
}
